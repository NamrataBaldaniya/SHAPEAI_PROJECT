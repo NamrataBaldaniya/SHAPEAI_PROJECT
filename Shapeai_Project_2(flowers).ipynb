{
 "cells": [
  {
   "cell_type": "markdown",
   "id": "8da49d70",
   "metadata": {},
   "source": [
    "## Importing Libraries"
   ]
  },
  {
   "cell_type": "code",
   "execution_count": 13,
   "id": "7ea66a75",
   "metadata": {},
   "outputs": [],
   "source": [
    "import numpy as np\n",
    "import tensorflow as tf\n",
    "from keras.preprocessing.image import ImageDataGenerator"
   ]
  },
  {
   "cell_type": "markdown",
   "id": "9702feb8",
   "metadata": {},
   "source": [
    "## Training Image Processing"
   ]
  },
  {
   "cell_type": "code",
   "execution_count": 14,
   "id": "0d331f7d",
   "metadata": {},
   "outputs": [
    {
     "name": "stdout",
     "output_type": "stream",
     "text": [
      "Found 4327 images belonging to 5 classes.\n"
     ]
    }
   ],
   "source": [
    "train_datagen = ImageDataGenerator(\n",
    "        rescale=1./255,\n",
    "        shear_range=0.2,\n",
    "        zoom_range=0.2,\n",
    "        horizontal_flip=True)\n",
    "training_set = train_datagen.flow_from_directory(\n",
    "        'training',\n",
    "        target_size=(64, 64),\n",
    "        batch_size=32,\n",
    "        class_mode='categorical')"
   ]
  },
  {
   "cell_type": "markdown",
   "id": "5416724e",
   "metadata": {},
   "source": [
    "## Test image processing"
   ]
  },
  {
   "cell_type": "code",
   "execution_count": 15,
   "id": "f5eca1bb",
   "metadata": {},
   "outputs": [
    {
     "name": "stdout",
     "output_type": "stream",
     "text": [
      "Found 3903 images belonging to 5 classes.\n"
     ]
    }
   ],
   "source": [
    "test_datagen = ImageDataGenerator(rescale=1./255)\n",
    "test_set = test_datagen.flow_from_directory(\n",
    "        'testing',\n",
    "        target_size=(64, 64),\n",
    "        batch_size=32,\n",
    "        class_mode='categorical')"
   ]
  },
  {
   "cell_type": "markdown",
   "id": "19d1368d",
   "metadata": {},
   "source": [
    "## Building the Model"
   ]
  },
  {
   "cell_type": "code",
   "execution_count": 16,
   "id": "3dd2a6f4",
   "metadata": {},
   "outputs": [],
   "source": [
    "from keras.models import Sequential\n",
    "from keras.layers import Conv2D,MaxPooling2D,Dropout,Flatten,Dense,Activation, BatchNormalization # Feature Scaling"
   ]
  },
  {
   "cell_type": "code",
   "execution_count": 17,
   "id": "2c99470a",
   "metadata": {},
   "outputs": [],
   "source": [
    "model = tf.keras.models.Sequential()"
   ]
  },
  {
   "cell_type": "markdown",
   "id": "3bf45542",
   "metadata": {},
   "source": [
    "## Building Convolutional Layer"
   ]
  },
  {
   "cell_type": "code",
   "execution_count": 19,
   "id": "1b2e19b1",
   "metadata": {},
   "outputs": [],
   "source": [
    "model.add(tf.keras.layers.Conv2D(filters=64 , kernel_size=3 , activation='relu' , input_shape=[64,64,3]))\n",
    "model.add(tf.keras.layers.MaxPool2D(pool_size=2,strides=2))"
   ]
  },
  {
   "cell_type": "code",
   "execution_count": 20,
   "id": "01b0d6e5",
   "metadata": {},
   "outputs": [],
   "source": [
    "model.add(tf.keras.layers.Conv2D(filters=64 , kernel_size=3 , activation='relu' ))\n",
    "model.add(tf.keras.layers.MaxPool2D(pool_size=2 , strides=2))"
   ]
  },
  {
   "cell_type": "code",
   "execution_count": 21,
   "id": "0e080b74",
   "metadata": {},
   "outputs": [],
   "source": [
    "model.add(tf.keras.layers.Dropout(0.5))\n",
    "model.add(tf.keras.layers.Flatten())\n",
    "model.add(tf.keras.layers.Dense(units=128, activation='relu'))\n",
    "model.add(tf.keras.layers.Dense(units=5 , activation='softmax'))\n",
    "model.compile(optimizer = 'rmsprop' , loss = 'categorical_crossentropy' , metrics = ['accuracy'])"
   ]
  },
  {
   "cell_type": "markdown",
   "id": "77600636",
   "metadata": {},
   "source": [
    "## Training the Model"
   ]
  },
  {
   "cell_type": "code",
   "execution_count": 23,
   "id": "e895bd1f",
   "metadata": {},
   "outputs": [
    {
     "name": "stdout",
     "output_type": "stream",
     "text": [
      "Epoch 1/30\n",
      "136/136 [==============================] - 477s 4s/step - loss: 1.3814 - accuracy: 0.4220 - val_loss: 1.0702 - val_accuracy: 0.5793\n",
      "Epoch 2/30\n",
      "136/136 [==============================] - 184s 1s/step - loss: 1.0748 - accuracy: 0.5822 - val_loss: 0.9046 - val_accuracy: 0.6567\n",
      "Epoch 3/30\n",
      "136/136 [==============================] - 136s 1s/step - loss: 0.9708 - accuracy: 0.6245 - val_loss: 0.8511 - val_accuracy: 0.6818\n",
      "Epoch 4/30\n",
      "136/136 [==============================] - 216s 2s/step - loss: 0.8825 - accuracy: 0.6596 - val_loss: 0.9010 - val_accuracy: 0.6582\n",
      "Epoch 5/30\n",
      "136/136 [==============================] - 181s 1s/step - loss: 0.8490 - accuracy: 0.6691 - val_loss: 0.9688 - val_accuracy: 0.6387\n",
      "Epoch 6/30\n",
      "136/136 [==============================] - 104s 766ms/step - loss: 0.7969 - accuracy: 0.7044 - val_loss: 0.7076 - val_accuracy: 0.7371\n",
      "Epoch 7/30\n",
      "136/136 [==============================] - 154s 1s/step - loss: 0.7544 - accuracy: 0.7194 - val_loss: 0.7387 - val_accuracy: 0.7364\n",
      "Epoch 8/30\n",
      "136/136 [==============================] - 193s 1s/step - loss: 0.7308 - accuracy: 0.7273 - val_loss: 0.6353 - val_accuracy: 0.7663\n",
      "Epoch 9/30\n",
      "136/136 [==============================] - 208s 2s/step - loss: 0.7034 - accuracy: 0.7347 - val_loss: 0.5820 - val_accuracy: 0.7784\n",
      "Epoch 10/30\n",
      "136/136 [==============================] - 206s 2s/step - loss: 0.6926 - accuracy: 0.7439 - val_loss: 0.6952 - val_accuracy: 0.7341\n",
      "Epoch 11/30\n",
      "136/136 [==============================] - 103s 760ms/step - loss: 0.6653 - accuracy: 0.7560 - val_loss: 0.7099 - val_accuracy: 0.7443\n",
      "Epoch 12/30\n",
      "136/136 [==============================] - 163s 1s/step - loss: 0.6486 - accuracy: 0.7555 - val_loss: 0.5624 - val_accuracy: 0.7848\n",
      "Epoch 13/30\n",
      "136/136 [==============================] - 100s 736ms/step - loss: 0.6198 - accuracy: 0.7694 - val_loss: 0.5050 - val_accuracy: 0.8194\n",
      "Epoch 14/30\n",
      "136/136 [==============================] - 121s 893ms/step - loss: 0.6028 - accuracy: 0.7749 - val_loss: 0.6496 - val_accuracy: 0.7622\n",
      "Epoch 15/30\n",
      "136/136 [==============================] - 96s 708ms/step - loss: 0.6054 - accuracy: 0.7821 - val_loss: 0.5239 - val_accuracy: 0.8086\n",
      "Epoch 16/30\n",
      "136/136 [==============================] - 130s 959ms/step - loss: 0.5762 - accuracy: 0.7888 - val_loss: 0.4197 - val_accuracy: 0.8550\n",
      "Epoch 17/30\n",
      "136/136 [==============================] - 145s 1s/step - loss: 0.5632 - accuracy: 0.7860 - val_loss: 0.4167 - val_accuracy: 0.8509\n",
      "Epoch 18/30\n",
      "136/136 [==============================] - 137s 1s/step - loss: 0.5563 - accuracy: 0.7892 - val_loss: 0.4925 - val_accuracy: 0.8201\n",
      "Epoch 19/30\n",
      "136/136 [==============================] - 172s 1s/step - loss: 0.5460 - accuracy: 0.7989 - val_loss: 0.4096 - val_accuracy: 0.8499\n",
      "Epoch 20/30\n",
      "136/136 [==============================] - 101s 746ms/step - loss: 0.5219 - accuracy: 0.8130 - val_loss: 0.4031 - val_accuracy: 0.8545\n",
      "Epoch 21/30\n",
      "136/136 [==============================] - 127s 935ms/step - loss: 0.5204 - accuracy: 0.8100 - val_loss: 0.3497 - val_accuracy: 0.8739\n",
      "Epoch 22/30\n",
      "136/136 [==============================] - 206s 2s/step - loss: 0.4996 - accuracy: 0.8163 - val_loss: 0.4995 - val_accuracy: 0.8214\n",
      "Epoch 23/30\n",
      "136/136 [==============================] - 189s 1s/step - loss: 0.5152 - accuracy: 0.8061 - val_loss: 0.3475 - val_accuracy: 0.8750\n",
      "Epoch 24/30\n",
      "136/136 [==============================] - 729s 5s/step - loss: 0.4955 - accuracy: 0.8167 - val_loss: 0.6427 - val_accuracy: 0.7899\n",
      "Epoch 25/30\n",
      "136/136 [==============================] - 195s 1s/step - loss: 0.4702 - accuracy: 0.8248 - val_loss: 0.3980 - val_accuracy: 0.8558\n",
      "Epoch 26/30\n",
      "136/136 [==============================] - 85s 624ms/step - loss: 0.4834 - accuracy: 0.8241 - val_loss: 0.4065 - val_accuracy: 0.8545\n",
      "Epoch 27/30\n",
      "136/136 [==============================] - 69s 509ms/step - loss: 0.4729 - accuracy: 0.8318 - val_loss: 0.3062 - val_accuracy: 0.8970\n",
      "Epoch 28/30\n",
      "136/136 [==============================] - 62s 459ms/step - loss: 0.4663 - accuracy: 0.8292 - val_loss: 0.3447 - val_accuracy: 0.8811\n",
      "Epoch 29/30\n",
      "136/136 [==============================] - 66s 486ms/step - loss: 0.4461 - accuracy: 0.8361 - val_loss: 0.4049 - val_accuracy: 0.8547\n",
      "Epoch 30/30\n",
      "136/136 [==============================] - 66s 488ms/step - loss: 0.4447 - accuracy: 0.8440 - val_loss: 0.3347 - val_accuracy: 0.8768\n"
     ]
    },
    {
     "data": {
      "text/plain": [
       "<tensorflow.python.keras.callbacks.History at 0x1f588f91550>"
      ]
     },
     "execution_count": 23,
     "metadata": {},
     "output_type": "execute_result"
    }
   ],
   "source": [
    "model.fit(x = training_set , validation_data = test_set , epochs = 30)"
   ]
  },
  {
   "cell_type": "markdown",
   "id": "2a01a4fc",
   "metadata": {},
   "source": [
    "## Prediction"
   ]
  },
  {
   "cell_type": "code",
   "execution_count": 24,
   "id": "884c9989",
   "metadata": {},
   "outputs": [
    {
     "data": {
      "text/plain": [
       "{'Daisy': 0, 'Dandelion': 1, 'Rose': 2, 'Sunflower': 3, 'Tulip': 4}"
      ]
     },
     "execution_count": 24,
     "metadata": {},
     "output_type": "execute_result"
    }
   ],
   "source": [
    "from keras.preprocessing import image\n",
    "test_image = image.load_img('Prediction/rose.jpg',target_size=(64,64))\n",
    "test_image = image.img_to_array(test_image)\n",
    "test_image = np.expand_dims(test_image,axis=0)\n",
    "result = model.predict(test_image)\n",
    "training_set.class_indices"
   ]
  },
  {
   "cell_type": "code",
   "execution_count": 25,
   "id": "91943ede",
   "metadata": {},
   "outputs": [
    {
     "name": "stdout",
     "output_type": "stream",
     "text": [
      "Rose\n"
     ]
    }
   ],
   "source": [
    "if result[0][0]==1:\n",
    "    print('Daisy')\n",
    "elif result[0][1]==1:\n",
    "    print('Dandelion')\n",
    "elif result[0][2]==1:\n",
    "    print('Rose')\n",
    "elif result[0][3]==1:\n",
    "    print('SunFlower')\n",
    "elif result[0][4]==1:\n",
    "    print(\"Tulip\")"
   ]
  },
  {
   "cell_type": "code",
   "execution_count": 26,
   "id": "e7a3277c",
   "metadata": {},
   "outputs": [
    {
     "name": "stdout",
     "output_type": "stream",
     "text": [
      "[[0. 0. 1. 0. 0.]]\n"
     ]
    }
   ],
   "source": [
    "print(result)"
   ]
  },
  {
   "cell_type": "markdown",
   "id": "17b0e751",
   "metadata": {},
   "source": [
    "## Save the Model"
   ]
  },
  {
   "cell_type": "code",
   "execution_count": 28,
   "id": "a51b5927",
   "metadata": {},
   "outputs": [],
   "source": [
    "model.save(\"model1_flowers_30epoch.h5\")"
   ]
  },
  {
   "cell_type": "code",
   "execution_count": null,
   "id": "04d67b43",
   "metadata": {},
   "outputs": [],
   "source": []
  }
 ],
 "metadata": {
  "kernelspec": {
   "display_name": "Python 3",
   "language": "python",
   "name": "python3"
  },
  "language_info": {
   "codemirror_mode": {
    "name": "ipython",
    "version": 3
   },
   "file_extension": ".py",
   "mimetype": "text/x-python",
   "name": "python",
   "nbconvert_exporter": "python",
   "pygments_lexer": "ipython3",
   "version": "3.8.8"
  }
 },
 "nbformat": 4,
 "nbformat_minor": 5
}
